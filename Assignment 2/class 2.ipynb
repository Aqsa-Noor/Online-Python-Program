{
 "cells": [
  {
   "cell_type": "code",
   "execution_count": 12,
   "id": "3f3d14bf",
   "metadata": {},
   "outputs": [
    {
     "name": "stdout",
     "output_type": "stream",
     "text": [
      "Grade A+\n",
      "Obtained Marks : 248\n",
      "Total Marks : 300\n",
      "Percentage : 82.66666666666667\n"
     ]
    }
   ],
   "source": [
    "Eng = 83;\n",
    "Isl = 80;\n",
    "Maths = 85;\n",
    "Total_marks = 300;\n",
    "Obtained_marks= Eng+Isl+Maths;\n",
    "Percentage = Obtained_marks / Total_marks * 100;\n",
    "if Percentage < 100 and Percentage >= 80 :\n",
    "    print(\"Grade A+\");\n",
    "elif  Percentage < 80 and Percentage >= 70 :\n",
    "    print(\"Grade A\");\n",
    "elif  Percentage < 70 and Percentage >= 60 :\n",
    "    print(\"Grade B\");\n",
    "elif  Percentage < 60 and Percentage>= 50 :\n",
    "    print(\"Grade C\");\n",
    "elif  Percentage < 50 and Percentage>= 40 :\n",
    "    print(\"Grade D\");\n",
    "elif  Percentage < 40 and Percentage>= 30 :\n",
    "    print(\"Grade E\");\n",
    "elif Percentage < 30:\n",
    "    print(\"Grade FAIL\");\n",
    "else :\n",
    "    print (\"Inappropiate\");\n",
    "    \n",
    "\n",
    "print(\"Obtained Marks :\" , Obtained_marks);\n",
    "print (\"Total Marks :\" , Total_marks);\n",
    "print(\"Percentage :\" , Percentage);\n"
   ]
  },
  {
   "cell_type": "code",
   "execution_count": null,
   "id": "a96f550a",
   "metadata": {},
   "outputs": [],
   "source": []
  }
 ],
 "metadata": {
  "kernelspec": {
   "display_name": "Python 3",
   "language": "python",
   "name": "python3"
  },
  "language_info": {
   "codemirror_mode": {
    "name": "ipython",
    "version": 3
   },
   "file_extension": ".py",
   "mimetype": "text/x-python",
   "name": "python",
   "nbconvert_exporter": "python",
   "pygments_lexer": "ipython3",
   "version": "3.8.8"
  }
 },
 "nbformat": 4,
 "nbformat_minor": 5
}
