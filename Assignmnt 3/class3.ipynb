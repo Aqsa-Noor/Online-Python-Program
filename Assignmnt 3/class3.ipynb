{
 "cells": [
  {
   "cell_type": "code",
   "execution_count": 3,
   "id": "eb8962ea",
   "metadata": {},
   "outputs": [
    {
     "name": "stdout",
     "output_type": "stream",
     "text": [
      "Python version\n",
      "3.8.8 (default, Apr 13 2021, 15:08:03) [MSC v.1916 64 bit (AMD64)]\n"
     ]
    }
   ],
   "source": [
    "#2 write a code to get the Python version you are using \n",
    "import sys\n",
    "print(\"Python version\");\n",
    "print (sys.version);"
   ]
  },
  {
   "cell_type": "raw",
   "id": "72403af1",
   "metadata": {},
   "source": []
  },
  {
   "cell_type": "code",
   "execution_count": 4,
   "id": "0c5aa768",
   "metadata": {},
   "outputs": [
    {
     "name": "stdout",
     "output_type": "stream",
     "text": [
      "Current date and time : \n",
      "2021-10-24 14:06:31\n"
     ]
    }
   ],
   "source": [
    "#3 Write a code to display the current date and time\n",
    "import datetime\n",
    "now = datetime.datetime.now();\n",
    "print (\"Current date and time : \");\n",
    "print (now.strftime(\"%Y-%m-%d %H:%M:%S\"));"
   ]
  },
  {
   "cell_type": "code",
   "execution_count": 8,
   "id": "29a59275",
   "metadata": {},
   "outputs": [
    {
     "name": "stdout",
     "output_type": "stream",
     "text": [
      "Enter the radius of a circle :3.485\n",
      "The area of the circle with given radius  is: 38.1553496361951\n"
     ]
    }
   ],
   "source": [
    "#4 write a code that accepts the radius of a circle from the user and compute the area\n",
    "from math import pi\n",
    "r= float(input(\"Enter the radius of a circle :\"));\n",
    "print (\"The area of the circle with given radius \"  + \" is: \" + str(pi * r**2));\n"
   ]
  },
  {
   "cell_type": "code",
   "execution_count": 12,
   "id": "4d7dcd3e",
   "metadata": {},
   "outputs": [
    {
     "name": "stdout",
     "output_type": "stream",
     "text": [
      "Enter your first name :Aqsa\n",
      "Enter your last name :Noor\n",
      "Your name is : Noor Aqsa\n"
     ]
    }
   ],
   "source": [
    "\"\"\"5 Write a Python program which accepts the user's first and last name \n",
    "and print them in reverse order with a space between them.\"\"\"\n",
    "\n",
    "fname= input(\"Enter your first name :\");\n",
    "lname= input(\"Enter your last name :\");\n",
    "print(\"Your name is :\" + lname + \" \" +fname);\n"
   ]
  },
  {
   "cell_type": "code",
   "execution_count": 16,
   "id": "ac9ccccc",
   "metadata": {},
   "outputs": [
    {
     "name": "stdout",
     "output_type": "stream",
     "text": [
      "Enter the first number : 5\n",
      "Enter the second number :1.25\n",
      "6.25\n"
     ]
    }
   ],
   "source": [
    "#6 write a code which takes 2 inputs & print them addition\n",
    "a= float(input(\"Enter the first number : \"));\n",
    "b= float(input(\"Enter the second number :\"));\n",
    "sum= a+b;\n",
    "print(sum);"
   ]
  },
  {
   "cell_type": "code",
   "execution_count": 18,
   "id": "965d0364",
   "metadata": {},
   "outputs": [
    {
     "name": "stdout",
     "output_type": "stream",
     "text": [
      "Enter your English Marks : 80.5\n",
      "Enter your Islamiyat Marks : 80\n",
      "Enter your Maths Marks : 88\n",
      "Enter your Urdu Marks : 87.25\n",
      "Enter your Computer Marks : 83\n",
      "Grade A+\n",
      "Obtained Marks : 418.75\n",
      "Total Marks : 500\n",
      "Percentage : 83.75\n"
     ]
    }
   ],
   "source": [
    "#7 write a code which takes 5 inputs for different subject's marks, total it and generate a marksheet using grades\n",
    "Eng = float(input(\"Enter your English Marks : \"));\n",
    "Isl = float(input(\"Enter your Islamiyat Marks : \"));\n",
    "Maths = float(input(\"Enter your Maths Marks : \"));\n",
    "Urdu = float(input(\"Enter your Urdu Marks : \"));\n",
    "Comp = float(input(\"Enter your Computer Marks : \"));\n",
    "Total_marks = 500;\n",
    "Obtained_marks= Eng+Isl+Maths+Urdu+Comp;\n",
    "Percentage = Obtained_marks / Total_marks * 100;\n",
    "if Percentage < 100 and Percentage >= 80 :\n",
    "    print(\"Grade A+\");\n",
    "elif  Percentage < 80 and Percentage >= 70 :\n",
    "    print(\"Grade A\");\n",
    "elif  Percentage < 70 and Percentage >= 60 :\n",
    "    print(\"Grade B\");\n",
    "elif  Percentage < 60 and Percentage>= 50 :\n",
    "    print(\"Grade C\");\n",
    "elif  Percentage < 50 and Percentage>= 40 :\n",
    "    print(\"Grade D\");\n",
    "elif  Percentage < 40 and Percentage>= 30 :\n",
    "    print(\"Grade E\");\n",
    "elif Percentage < 30:\n",
    "    print(\"Grade FAIL\");\n",
    "else :\n",
    "    print (\"Inappropiate\");\n",
    "    \n",
    "\n",
    "print(\"Obtained Marks :\" , Obtained_marks);\n",
    "print (\"Total Marks :\" , Total_marks);\n",
    "print(\"Percentage :\" , Percentage);\n"
   ]
  },
  {
   "cell_type": "code",
   "execution_count": 24,
   "id": "4c740d9f",
   "metadata": {},
   "outputs": [
    {
     "name": "stdout",
     "output_type": "stream",
     "text": [
      "Enter a number :60\n",
      "Given number is EVEN\n"
     ]
    }
   ],
   "source": [
    "#8 write a code which takes input & identify that given mnumber is even or odd\n",
    "num = int(input(\"Enter a number :\"));\n",
    "if (num%2)==0:\n",
    "    print (\"Given number is EVEN\");\n",
    "else:\n",
    "    print(\"Given number is ODD\");"
   ]
  },
  {
   "cell_type": "code",
   "execution_count": 28,
   "id": "748df1fe",
   "metadata": {},
   "outputs": [
    {
     "name": "stdout",
     "output_type": "stream",
     "text": [
      "The length of the list is : 7\n"
     ]
    }
   ],
   "source": [
    "#9 write a code that print the length of a list\n",
    "arr =[\"ALI\",\"Ahmed\", True,11,\"Zain\",2.5,\"Hamza\"];\n",
    "print(\"The length of the list is :\" , len(arr));\n"
   ]
  },
  {
   "cell_type": "raw",
   "id": "5df04588",
   "metadata": {},
   "source": []
  },
  {
   "cell_type": "code",
   "execution_count": 67,
   "id": "2edc673d",
   "metadata": {},
   "outputs": [
    {
     "ename": "TypeError",
     "evalue": "unsupported operand type(s) for +=: 'int' and 'str'",
     "output_type": "error",
     "traceback": [
      "\u001b[1;31m---------------------------------------------------------------------------\u001b[0m",
      "\u001b[1;31mTypeError\u001b[0m                                 Traceback (most recent call last)",
      "\u001b[1;32m<ipython-input-67-952ddcbdc646>\u001b[0m in \u001b[0;36m<module>\u001b[1;34m\u001b[0m\n\u001b[0;32m     15\u001b[0m     \u001b[1;32mreturn\u001b[0m \u001b[0msum\u001b[0m\u001b[1;33m;\u001b[0m\u001b[1;33m\u001b[0m\u001b[1;33m\u001b[0m\u001b[0m\n\u001b[0;32m     16\u001b[0m \u001b[1;33m\u001b[0m\u001b[0m\n\u001b[1;32m---> 17\u001b[1;33m \u001b[0mprint\u001b[0m\u001b[1;33m(\u001b[0m\u001b[0msumm\u001b[0m\u001b[1;33m(\u001b[0m\u001b[1;33m(\u001b[0m\u001b[0mlist\u001b[0m\u001b[1;33m)\u001b[0m\u001b[1;33m)\u001b[0m\u001b[1;33m)\u001b[0m\u001b[1;33m;\u001b[0m\u001b[1;33m\u001b[0m\u001b[1;33m\u001b[0m\u001b[0m\n\u001b[0m\u001b[0;32m     18\u001b[0m \u001b[1;33m\u001b[0m\u001b[0m\n\u001b[0;32m     19\u001b[0m \u001b[0mlist\u001b[0m\u001b[1;33m=\u001b[0m\u001b[1;33m[\u001b[0m\u001b[1;36m1\u001b[0m\u001b[1;33m,\u001b[0m\u001b[1;36m2\u001b[0m\u001b[1;33m,\u001b[0m\u001b[1;36m3\u001b[0m\u001b[1;33m,\u001b[0m\u001b[1;36m4\u001b[0m\u001b[1;33m,\u001b[0m\u001b[1;36m5\u001b[0m\u001b[1;33m,\u001b[0m\u001b[1;36m6\u001b[0m\u001b[1;33m,\u001b[0m\u001b[1;36m7\u001b[0m\u001b[1;33m,\u001b[0m\u001b[1;36m8\u001b[0m\u001b[1;33m,\u001b[0m\u001b[1;36m9\u001b[0m\u001b[1;33m,\u001b[0m\u001b[1;36m10\u001b[0m\u001b[1;33m]\u001b[0m\u001b[1;33m\u001b[0m\u001b[1;33m\u001b[0m\u001b[0m\n",
      "\u001b[1;32m<ipython-input-67-952ddcbdc646>\u001b[0m in \u001b[0;36msumm\u001b[1;34m(num)\u001b[0m\n\u001b[0;32m     11\u001b[0m     \u001b[1;32mfor\u001b[0m \u001b[0mi\u001b[0m \u001b[1;32min\u001b[0m \u001b[0mnum\u001b[0m\u001b[1;33m:\u001b[0m\u001b[1;33m\u001b[0m\u001b[1;33m\u001b[0m\u001b[0m\n\u001b[0;32m     12\u001b[0m \u001b[1;33m\u001b[0m\u001b[0m\n\u001b[1;32m---> 13\u001b[1;33m          \u001b[0msum\u001b[0m \u001b[1;33m+=\u001b[0m \u001b[0mi\u001b[0m\u001b[1;33m;\u001b[0m\u001b[1;33m\u001b[0m\u001b[1;33m\u001b[0m\u001b[0m\n\u001b[0m\u001b[0;32m     14\u001b[0m \u001b[1;33m\u001b[0m\u001b[0m\n\u001b[0;32m     15\u001b[0m     \u001b[1;32mreturn\u001b[0m \u001b[0msum\u001b[0m\u001b[1;33m;\u001b[0m\u001b[1;33m\u001b[0m\u001b[1;33m\u001b[0m\u001b[0m\n",
      "\u001b[1;31mTypeError\u001b[0m: unsupported operand type(s) for +=: 'int' and 'str'"
     ]
    }
   ],
   "source": [
    "#10 \n",
    "#list=[0,1,2,3,4,5,6,7,8,9];\n",
    "#sum = 0;\n",
    "#for i in range(len(list)):\n",
    "#sum += list[i];\n",
    "#print(sum);\n",
    "def summ(num):\n",
    "\n",
    "    sum= 0\n",
    "\n",
    "    for i in num:\n",
    "\n",
    "         sum += i;\n",
    "\n",
    "    return sum;\n",
    "\n",
    "print(summ((list)));\n",
    "\n",
    "list=[1,2,3,4,5,6,7,8,9,10]"
   ]
  },
  {
   "cell_type": "code",
   "execution_count": 68,
   "id": "d8b21652",
   "metadata": {},
   "outputs": [
    {
     "name": "stdout",
     "output_type": "stream",
     "text": [
      "The largest number is :  27\n"
     ]
    }
   ],
   "source": [
    "#11 write a code to get the largest number from a numeric list\n",
    "newList=[10,5,20,3,19,25,4,9,27];\n",
    "print(\"The largest number is : \" , max(newList));"
   ]
  },
  {
   "cell_type": "code",
   "execution_count": 65,
   "id": "ac660121",
   "metadata": {},
   "outputs": [
    {
     "name": "stdout",
     "output_type": "stream",
     "text": [
      "1\n",
      "1\n",
      "2\n",
      "3\n"
     ]
    }
   ],
   "source": [
    "#12 write a code that prints all the elements that are less than 5\n",
    "a=[1,1,2,3,5,8,13,21,34,55,89];\n",
    "for ar in a:\n",
    "\n",
    " if ar < 5:\n",
    "\n",
    "    print(ar);\n"
   ]
  },
  {
   "cell_type": "code",
   "execution_count": 73,
   "id": "681c5b86",
   "metadata": {},
   "outputs": [
    {
     "name": "stdout",
     "output_type": "stream",
     "text": [
      "Twinkle,twinkle,little star, \n",
      "\tHow I wonder what you are! \n",
      "\t\tUp above the world so high, \n",
      "\t\tLike a diamond in the sky. \n",
      "Twinkle, twinkle, little star, \n",
      "\tHow I wonder what you are\n"
     ]
    }
   ],
   "source": [
    "#1 write a code that prints the output in the specific format\n",
    "print(\"Twinkle,twinkle,little star, \\n\\tHow I wonder what you are! \\n\\t\\tUp above the world so high, \\n\\t\\tLike a diamond in the sky. \\nTwinkle, twinkle, little star, \\n\\tHow I wonder what you are\")\n",
    "\n",
    "\n",
    "\n"
   ]
  },
  {
   "cell_type": "code",
   "execution_count": null,
   "id": "90a0143a",
   "metadata": {},
   "outputs": [],
   "source": []
  }
 ],
 "metadata": {
  "kernelspec": {
   "display_name": "Python 3",
   "language": "python",
   "name": "python3"
  },
  "language_info": {
   "codemirror_mode": {
    "name": "ipython",
    "version": 3
   },
   "file_extension": ".py",
   "mimetype": "text/x-python",
   "name": "python",
   "nbconvert_exporter": "python",
   "pygments_lexer": "ipython3",
   "version": "3.8.8"
  }
 },
 "nbformat": 4,
 "nbformat_minor": 5
}
