{
 "cells": [
  {
   "cell_type": "code",
   "execution_count": 3,
   "id": "b7269b11",
   "metadata": {},
   "outputs": [
    {
     "name": "stdout",
     "output_type": "stream",
     "text": [
      "Hello Syeda Aqsa Noor\n"
     ]
    }
   ],
   "source": [
    "print(\"Hello Syeda Aqsa Noor\");"
   ]
  },
  {
   "cell_type": "code",
   "execution_count": null,
   "id": "89dea1f2",
   "metadata": {},
   "outputs": [],
   "source": []
  }
 ],
 "metadata": {
  "kernelspec": {
   "display_name": "Python 3",
   "language": "python",
   "name": "python3"
  },
  "language_info": {
   "codemirror_mode": {
    "name": "ipython",
    "version": 3
   },
   "file_extension": ".py",
   "mimetype": "text/x-python",
   "name": "python",
   "nbconvert_exporter": "python",
   "pygments_lexer": "ipython3",
   "version": "3.8.8"
  }
 },
 "nbformat": 4,
 "nbformat_minor": 5
}
